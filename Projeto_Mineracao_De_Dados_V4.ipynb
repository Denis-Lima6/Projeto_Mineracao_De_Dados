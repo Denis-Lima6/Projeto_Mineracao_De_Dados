{
 "cells": [
  {
   "cell_type": "code",
   "execution_count": 1,
   "metadata": {},
   "outputs": [],
   "source": [
    "# Importando as bibliotecas necessárias\n",
    "import numpy as np\n",
    "import tensorflow as tf\n",
    "from tensorflow.keras import layers, models, Input\n",
    "from tensorflow.keras.datasets import cifar10\n",
    "from tensorflow.keras.utils import to_categorical\n",
    "from tensorflow.keras.optimizers import Adam\n",
    "from tensorflow.keras.preprocessing.image import ImageDataGenerator\n",
    "from tensorflow.keras.callbacks import EarlyStopping"
   ]
  },
  {
   "cell_type": "code",
   "execution_count": 2,
   "metadata": {},
   "outputs": [],
   "source": [
    "# Carregando e preparando os dados CIFAR-10\n",
    "(x_treino, y_treino), (x_teste, y_teste) = cifar10.load_data()\n",
    "x_treino = x_treino.astype('float32') / 255.0\n",
    "x_teste = x_teste.astype('float32') / 255.0\n",
    "y_treino = to_categorical(y_treino)\n",
    "y_teste = to_categorical(y_teste)"
   ]
  },
  {
   "cell_type": "code",
   "execution_count": 3,
   "metadata": {},
   "outputs": [],
   "source": [
    "# Definição do Gerador\n",
    "def criar_gerador():\n",
    "    modelo = models.Sequential([\n",
    "        layers.Dense(256, activation='relu', input_dim=100),\n",
    "        layers.BatchNormalization(),\n",
    "        layers.Dense(512, activation='relu'),\n",
    "        layers.BatchNormalization(),\n",
    "        layers.Dense(1024, activation='relu'),\n",
    "        layers.BatchNormalization(),\n",
    "        layers.Dense(32 * 32 * 3, activation='tanh'),\n",
    "        layers.Reshape((32, 32, 3))\n",
    "    ])\n",
    "    return modelo"
   ]
  },
  {
   "cell_type": "code",
   "execution_count": 4,
   "metadata": {},
   "outputs": [],
   "source": [
    "# Definição do Discriminador\n",
    "def criar_discriminador():\n",
    "    modelo = models.Sequential([\n",
    "        layers.Flatten(input_shape=(32, 32, 3)),\n",
    "        layers.Dense(512, activation='relu'),\n",
    "        layers.Dense(256, activation='relu'),\n",
    "        layers.Dense(1, activation='sigmoid')\n",
    "    ])\n",
    "    modelo.compile(optimizer=Adam(0.0002, 0.5), loss='binary_crossentropy', metrics=['accuracy'])\n",
    "    return modelo"
   ]
  },
  {
   "cell_type": "code",
   "execution_count": 5,
   "metadata": {},
   "outputs": [],
   "source": [
    "gerador = criar_gerador()\n",
    "discriminador = criar_discriminador()"
   ]
  },
  {
   "cell_type": "code",
   "execution_count": 6,
   "metadata": {},
   "outputs": [],
   "source": [
    "# Configurando e compilando a GAN\n",
    "entrada_gan = Input(shape=(100,))\n",
    "imagem_falsa = gerador(entrada_gan)\n",
    "discriminador.trainable = False\n",
    "decisao_falsa = discriminador(imagem_falsa)\n",
    "gan = models.Model(entrada_gan, decisao_falsa)\n",
    "gan.compile(optimizer=Adam(0.0002, 0.5), loss='binary_crossentropy')"
   ]
  },
  {
   "cell_type": "code",
   "execution_count": 7,
   "metadata": {},
   "outputs": [],
   "source": [
    "# Função para treinar a GAN\n",
    "def treinar_gan(gerador, discriminador, gan, epochs, batch_size):\n",
    "    for epoch in range(epochs):\n",
    "        # Amostras de ruído e imagens geradas\n",
    "        ruído = np.random.normal(0, 1, (batch_size, 100))\n",
    "        imagens_geradas = gerador.predict(ruído)\n",
    "\n",
    "        # Amostras de imagens reais\n",
    "        indices = np.random.randint(0, x_treino.shape[0], batch_size)\n",
    "        imagens_reais = x_treino[indices]\n",
    "\n",
    "        # Treinar o discriminador\n",
    "        perda_real = discriminador.train_on_batch(imagens_reais, np.ones((batch_size, 1)))\n",
    "        perda_falsa = discriminador.train_on_batch(imagens_geradas, np.zeros((batch_size, 1)))\n",
    "        perda_discriminador = 0.5 * np.add(perda_real, perda_falsa)\n",
    "\n",
    "        # Treinar o gerador\n",
    "        ruído = np.random.normal(0, 1, (batch_size, 100))\n",
    "        perda_gerador = gan.train_on_batch(ruído, np.ones((batch_size, 1)))\n",
    "\n",
    "        print(f'Epoch {epoch + 1}/{epochs}, Perda Discriminador: {perda_discriminador}, Perda Gerador: {perda_gerador}')"
   ]
  },
  {
   "cell_type": "code",
   "execution_count": 8,
   "metadata": {},
   "outputs": [
    {
     "name": "stdout",
     "output_type": "stream",
     "text": [
      "4/4 [==============================] - 1s 8ms/step\n",
      "Epoch 1/100, Perda Discriminador: [0.53713927 0.625     ], Perda Gerador: 0.6687787771224976\n",
      "4/4 [==============================] - 0s 9ms/step\n",
      "Epoch 2/100, Perda Discriminador: [0.28668665 1.        ], Perda Gerador: 0.6915053725242615\n",
      "4/4 [==============================] - 0s 10ms/step\n",
      "Epoch 3/100, Perda Discriminador: [0.21650529 1.        ], Perda Gerador: 0.7703138589859009\n",
      "4/4 [==============================] - 0s 10ms/step\n",
      "Epoch 4/100, Perda Discriminador: [0.16351692 1.        ], Perda Gerador: 0.7787222862243652\n",
      "4/4 [==============================] - 0s 10ms/step\n",
      "Epoch 5/100, Perda Discriminador: [0.12678736 1.        ], Perda Gerador: 0.8178359270095825\n",
      "4/4 [==============================] - 0s 9ms/step\n",
      "Epoch 6/100, Perda Discriminador: [0.10520284 1.        ], Perda Gerador: 0.8202871084213257\n",
      "4/4 [==============================] - 0s 10ms/step\n",
      "Epoch 7/100, Perda Discriminador: [0.09255695 1.        ], Perda Gerador: 0.8499894142150879\n",
      "4/4 [==============================] - 0s 9ms/step\n",
      "Epoch 8/100, Perda Discriminador: [0.08133439 1.        ], Perda Gerador: 0.8519686460494995\n",
      "4/4 [==============================] - 0s 9ms/step\n",
      "Epoch 9/100, Perda Discriminador: [0.07646617 1.        ], Perda Gerador: 0.9246792793273926\n",
      "4/4 [==============================] - 0s 11ms/step\n",
      "Epoch 10/100, Perda Discriminador: [0.07725324 1.        ], Perda Gerador: 0.9134705662727356\n",
      "4/4 [==============================] - 0s 8ms/step\n",
      "Epoch 11/100, Perda Discriminador: [0.08492111 1.        ], Perda Gerador: 0.9806514382362366\n",
      "4/4 [==============================] - 0s 10ms/step\n",
      "Epoch 12/100, Perda Discriminador: [0.08739494 1.        ], Perda Gerador: 1.0199341773986816\n",
      "4/4 [==============================] - 0s 9ms/step\n",
      "Epoch 13/100, Perda Discriminador: [0.08570557 1.        ], Perda Gerador: 1.1026532649993896\n",
      "4/4 [==============================] - 0s 10ms/step\n",
      "Epoch 14/100, Perda Discriminador: [0.09726991 1.        ], Perda Gerador: 1.1413047313690186\n",
      "4/4 [==============================] - 0s 8ms/step\n",
      "Epoch 15/100, Perda Discriminador: [0.10438408 1.        ], Perda Gerador: 1.2846442461013794\n",
      "4/4 [==============================] - 0s 8ms/step\n",
      "Epoch 16/100, Perda Discriminador: [0.11035883 1.        ], Perda Gerador: 1.3317227363586426\n",
      "4/4 [==============================] - 0s 8ms/step\n",
      "Epoch 17/100, Perda Discriminador: [0.12024649 1.        ], Perda Gerador: 1.5149242877960205\n",
      "4/4 [==============================] - 0s 9ms/step\n",
      "Epoch 18/100, Perda Discriminador: [0.11392441 1.        ], Perda Gerador: 1.6699159145355225\n",
      "4/4 [==============================] - 0s 9ms/step\n",
      "Epoch 19/100, Perda Discriminador: [0.13523101 1.        ], Perda Gerador: 1.8741487264633179\n",
      "4/4 [==============================] - 0s 9ms/step\n",
      "Epoch 20/100, Perda Discriminador: [0.12921118 1.        ], Perda Gerador: 2.055312156677246\n",
      "4/4 [==============================] - 0s 11ms/step\n",
      "Epoch 21/100, Perda Discriminador: [0.1216599 1.       ], Perda Gerador: 2.237452268600464\n",
      "4/4 [==============================] - 0s 8ms/step\n",
      "Epoch 22/100, Perda Discriminador: [0.11505665 1.        ], Perda Gerador: 2.5204224586486816\n",
      "4/4 [==============================] - 0s 8ms/step\n",
      "Epoch 23/100, Perda Discriminador: [0.11824292 1.        ], Perda Gerador: 2.6881814002990723\n",
      "4/4 [==============================] - 0s 8ms/step\n",
      "Epoch 24/100, Perda Discriminador: [0.09931291 1.        ], Perda Gerador: 2.9208297729492188\n",
      "4/4 [==============================] - 0s 8ms/step\n",
      "Epoch 25/100, Perda Discriminador: [0.10324826 1.        ], Perda Gerador: 3.240690231323242\n",
      "4/4 [==============================] - 0s 11ms/step\n",
      "Epoch 26/100, Perda Discriminador: [0.09858804 1.        ], Perda Gerador: 3.455380439758301\n",
      "4/4 [==============================] - 0s 9ms/step\n",
      "Epoch 27/100, Perda Discriminador: [0.08960569 1.        ], Perda Gerador: 3.725931167602539\n",
      "4/4 [==============================] - 0s 8ms/step\n",
      "Epoch 28/100, Perda Discriminador: [0.07716478 1.        ], Perda Gerador: 3.797532558441162\n",
      "4/4 [==============================] - 0s 9ms/step\n",
      "Epoch 29/100, Perda Discriminador: [0.06540246 1.        ], Perda Gerador: 4.0011773109436035\n",
      "4/4 [==============================] - 0s 12ms/step\n",
      "Epoch 30/100, Perda Discriminador: [0.06391181 1.        ], Perda Gerador: 4.2189459800720215\n",
      "4/4 [==============================] - 0s 9ms/step\n",
      "Epoch 31/100, Perda Discriminador: [0.05793042 1.        ], Perda Gerador: 4.3420915603637695\n",
      "4/4 [==============================] - 0s 10ms/step\n",
      "Epoch 32/100, Perda Discriminador: [0.06452445 1.        ], Perda Gerador: 4.503937721252441\n",
      "4/4 [==============================] - 0s 8ms/step\n",
      "Epoch 33/100, Perda Discriminador: [0.05196448 1.        ], Perda Gerador: 4.67742919921875\n",
      "4/4 [==============================] - 0s 9ms/step\n",
      "Epoch 34/100, Perda Discriminador: [0.04360832 1.        ], Perda Gerador: 4.660356521606445\n",
      "4/4 [==============================] - 0s 9ms/step\n",
      "Epoch 35/100, Perda Discriminador: [0.04006327 1.        ], Perda Gerador: 4.773168087005615\n",
      "4/4 [==============================] - 0s 9ms/step\n",
      "Epoch 36/100, Perda Discriminador: [0.039548 1.      ], Perda Gerador: 4.778313636779785\n",
      "4/4 [==============================] - 0s 9ms/step\n",
      "Epoch 37/100, Perda Discriminador: [0.0385375 1.       ], Perda Gerador: 4.848858833312988\n",
      "4/4 [==============================] - 0s 8ms/step\n",
      "Epoch 38/100, Perda Discriminador: [0.03465206 1.        ], Perda Gerador: 4.882699966430664\n",
      "4/4 [==============================] - 0s 8ms/step\n",
      "Epoch 39/100, Perda Discriminador: [0.0340289 1.       ], Perda Gerador: 4.9939165115356445\n",
      "4/4 [==============================] - 0s 9ms/step\n",
      "Epoch 40/100, Perda Discriminador: [0.02993601 1.        ], Perda Gerador: 4.971822738647461\n",
      "4/4 [==============================] - 0s 8ms/step\n",
      "Epoch 41/100, Perda Discriminador: [0.03444908 1.        ], Perda Gerador: 4.9852705001831055\n",
      "4/4 [==============================] - 0s 10ms/step\n",
      "Epoch 42/100, Perda Discriminador: [0.03077174 1.        ], Perda Gerador: 4.916109085083008\n",
      "4/4 [==============================] - 0s 8ms/step\n",
      "Epoch 43/100, Perda Discriminador: [0.02863607 1.        ], Perda Gerador: 5.134182929992676\n",
      "4/4 [==============================] - 0s 10ms/step\n",
      "Epoch 44/100, Perda Discriminador: [0.029062 1.      ], Perda Gerador: 5.254366874694824\n",
      "4/4 [==============================] - 0s 8ms/step\n",
      "Epoch 45/100, Perda Discriminador: [0.02837088 1.        ], Perda Gerador: 5.160019874572754\n",
      "4/4 [==============================] - 0s 9ms/step\n",
      "Epoch 46/100, Perda Discriminador: [0.03535409 1.        ], Perda Gerador: 5.243621349334717\n",
      "4/4 [==============================] - 0s 8ms/step\n",
      "Epoch 47/100, Perda Discriminador: [0.02596618 1.        ], Perda Gerador: 5.372196197509766\n",
      "4/4 [==============================] - 0s 8ms/step\n",
      "Epoch 48/100, Perda Discriminador: [0.03106971 1.        ], Perda Gerador: 5.348772048950195\n",
      "4/4 [==============================] - 0s 9ms/step\n",
      "Epoch 49/100, Perda Discriminador: [0.02650918 1.        ], Perda Gerador: 5.642627716064453\n",
      "4/4 [==============================] - 0s 8ms/step\n",
      "Epoch 50/100, Perda Discriminador: [0.02862176 1.        ], Perda Gerador: 5.6000590324401855\n",
      "4/4 [==============================] - 0s 8ms/step\n",
      "Epoch 51/100, Perda Discriminador: [0.02786029 1.        ], Perda Gerador: 5.71331787109375\n",
      "4/4 [==============================] - 0s 8ms/step\n",
      "Epoch 52/100, Perda Discriminador: [0.03886053 0.99609375], Perda Gerador: 5.6334099769592285\n",
      "4/4 [==============================] - 0s 8ms/step\n",
      "Epoch 53/100, Perda Discriminador: [0.02382805 1.        ], Perda Gerador: 6.0061140060424805\n",
      "4/4 [==============================] - 0s 8ms/step\n",
      "Epoch 54/100, Perda Discriminador: [0.03334801 0.99609375], Perda Gerador: 6.047243118286133\n",
      "4/4 [==============================] - 0s 10ms/step\n",
      "Epoch 55/100, Perda Discriminador: [0.03269534 1.        ], Perda Gerador: 6.364999771118164\n",
      "4/4 [==============================] - 0s 8ms/step\n",
      "Epoch 56/100, Perda Discriminador: [0.02587178 1.        ], Perda Gerador: 6.284206390380859\n",
      "4/4 [==============================] - 0s 9ms/step\n",
      "Epoch 57/100, Perda Discriminador: [0.02910636 1.        ], Perda Gerador: 6.4836225509643555\n",
      "4/4 [==============================] - 0s 8ms/step\n",
      "Epoch 58/100, Perda Discriminador: [0.05351728 0.984375  ], Perda Gerador: 6.495575428009033\n",
      "4/4 [==============================] - 0s 8ms/step\n",
      "Epoch 59/100, Perda Discriminador: [0.02313117 1.        ], Perda Gerador: 6.899297714233398\n",
      "4/4 [==============================] - 0s 8ms/step\n",
      "Epoch 60/100, Perda Discriminador: [0.0259698 1.       ], Perda Gerador: 6.864053726196289\n",
      "4/4 [==============================] - 0s 8ms/step\n",
      "Epoch 61/100, Perda Discriminador: [0.02491099 1.        ], Perda Gerador: 6.92295503616333\n",
      "4/4 [==============================] - 0s 8ms/step\n",
      "Epoch 62/100, Perda Discriminador: [0.02670617 1.        ], Perda Gerador: 6.624660015106201\n",
      "4/4 [==============================] - 0s 8ms/step\n",
      "Epoch 63/100, Perda Discriminador: [0.02341071 1.        ], Perda Gerador: 7.0058274269104\n",
      "4/4 [==============================] - 0s 9ms/step\n",
      "Epoch 64/100, Perda Discriminador: [0.06109712 0.98046875], Perda Gerador: 7.271599769592285\n",
      "4/4 [==============================] - 0s 8ms/step\n",
      "Epoch 65/100, Perda Discriminador: [0.02087792 1.        ], Perda Gerador: 7.593941688537598\n",
      "4/4 [==============================] - 0s 10ms/step\n",
      "Epoch 66/100, Perda Discriminador: [0.07836227 0.98828125], Perda Gerador: 7.607891082763672\n",
      "4/4 [==============================] - 0s 9ms/step\n",
      "Epoch 67/100, Perda Discriminador: [0.02223091 1.        ], Perda Gerador: 8.079599380493164\n",
      "4/4 [==============================] - 0s 9ms/step\n",
      "Epoch 68/100, Perda Discriminador: [0.02621286 1.        ], Perda Gerador: 7.8996453285217285\n",
      "4/4 [==============================] - 0s 8ms/step\n",
      "Epoch 69/100, Perda Discriminador: [0.02685895 1.        ], Perda Gerador: 8.02651596069336\n",
      "4/4 [==============================] - 0s 9ms/step\n",
      "Epoch 70/100, Perda Discriminador: [0.0298405 1.       ], Perda Gerador: 7.613454818725586\n",
      "4/4 [==============================] - 0s 9ms/step\n",
      "Epoch 71/100, Perda Discriminador: [0.03148463 1.        ], Perda Gerador: 7.710174560546875\n",
      "4/4 [==============================] - 0s 8ms/step\n",
      "Epoch 72/100, Perda Discriminador: [0.03020851 1.        ], Perda Gerador: 8.524219512939453\n",
      "4/4 [==============================] - 0s 9ms/step\n",
      "Epoch 73/100, Perda Discriminador: [0.3810697  0.82421875], Perda Gerador: 10.459208488464355\n",
      "4/4 [==============================] - 0s 8ms/step\n",
      "Epoch 74/100, Perda Discriminador: [0.03768491 1.        ], Perda Gerador: 10.437597274780273\n",
      "4/4 [==============================] - 0s 9ms/step\n",
      "Epoch 75/100, Perda Discriminador: [0.0219045 1.       ], Perda Gerador: 10.68326187133789\n",
      "4/4 [==============================] - 0s 8ms/step\n",
      "Epoch 76/100, Perda Discriminador: [0.03068388 1.        ], Perda Gerador: 9.256656646728516\n",
      "4/4 [==============================] - 0s 8ms/step\n",
      "Epoch 77/100, Perda Discriminador: [0.04178022 1.        ], Perda Gerador: 8.540420532226562\n",
      "4/4 [==============================] - 0s 8ms/step\n",
      "Epoch 78/100, Perda Discriminador: [0.03751709 1.        ], Perda Gerador: 8.205718994140625\n",
      "4/4 [==============================] - 0s 9ms/step\n",
      "Epoch 79/100, Perda Discriminador: [0.03280138 1.        ], Perda Gerador: 8.070831298828125\n",
      "4/4 [==============================] - 0s 8ms/step\n",
      "Epoch 80/100, Perda Discriminador: [0.03749246 1.        ], Perda Gerador: 7.833475589752197\n",
      "4/4 [==============================] - 0s 8ms/step\n",
      "Epoch 81/100, Perda Discriminador: [0.03697165 0.99609375], Perda Gerador: 7.9264817237854\n",
      "4/4 [==============================] - 0s 8ms/step\n",
      "Epoch 82/100, Perda Discriminador: [0.02778875 1.        ], Perda Gerador: 7.882956504821777\n",
      "4/4 [==============================] - 0s 9ms/step\n",
      "Epoch 83/100, Perda Discriminador: [0.03261658 1.        ], Perda Gerador: 8.12033462524414\n",
      "4/4 [==============================] - 0s 8ms/step\n",
      "Epoch 84/100, Perda Discriminador: [0.02494046 1.        ], Perda Gerador: 7.97239875793457\n",
      "4/4 [==============================] - 0s 8ms/step\n",
      "Epoch 85/100, Perda Discriminador: [0.033573 1.      ], Perda Gerador: 7.961151123046875\n",
      "4/4 [==============================] - 0s 8ms/step\n",
      "Epoch 86/100, Perda Discriminador: [0.02714315 1.        ], Perda Gerador: 8.141351699829102\n",
      "4/4 [==============================] - 0s 8ms/step\n",
      "Epoch 87/100, Perda Discriminador: [0.02521377 1.        ], Perda Gerador: 8.232065200805664\n",
      "4/4 [==============================] - 0s 8ms/step\n",
      "Epoch 88/100, Perda Discriminador: [0.03286015 0.99609375], Perda Gerador: 7.870793342590332\n",
      "4/4 [==============================] - 0s 9ms/step\n",
      "Epoch 89/100, Perda Discriminador: [0.0243323 1.       ], Perda Gerador: 7.956725120544434\n",
      "4/4 [==============================] - 0s 9ms/step\n",
      "Epoch 90/100, Perda Discriminador: [0.02517129 1.        ], Perda Gerador: 8.078479766845703\n",
      "4/4 [==============================] - 0s 8ms/step\n",
      "Epoch 91/100, Perda Discriminador: [0.02689181 1.        ], Perda Gerador: 8.04930305480957\n",
      "4/4 [==============================] - 0s 8ms/step\n",
      "Epoch 92/100, Perda Discriminador: [0.02838386 1.        ], Perda Gerador: 8.250782012939453\n",
      "4/4 [==============================] - 0s 8ms/step\n",
      "Epoch 93/100, Perda Discriminador: [0.03537731 1.        ], Perda Gerador: 7.932123184204102\n",
      "4/4 [==============================] - 0s 8ms/step\n",
      "Epoch 94/100, Perda Discriminador: [0.02076284 1.        ], Perda Gerador: 8.021100997924805\n",
      "4/4 [==============================] - 0s 9ms/step\n",
      "Epoch 95/100, Perda Discriminador: [0.02668668 1.        ], Perda Gerador: 8.390750885009766\n",
      "4/4 [==============================] - 0s 9ms/step\n",
      "Epoch 96/100, Perda Discriminador: [0.03633225 1.        ], Perda Gerador: 8.246728897094727\n",
      "4/4 [==============================] - 0s 8ms/step\n",
      "Epoch 97/100, Perda Discriminador: [0.02411899 1.        ], Perda Gerador: 8.355352401733398\n",
      "4/4 [==============================] - 0s 9ms/step\n",
      "Epoch 98/100, Perda Discriminador: [0.0415487  0.99609375], Perda Gerador: 8.09238052368164\n",
      "4/4 [==============================] - 0s 8ms/step\n",
      "Epoch 99/100, Perda Discriminador: [0.02276044 1.        ], Perda Gerador: 8.31649112701416\n",
      "4/4 [==============================] - 0s 9ms/step\n",
      "Epoch 100/100, Perda Discriminador: [0.06424321 0.98828125], Perda Gerador: 8.459543228149414\n"
     ]
    }
   ],
   "source": [
    "# Treinando a GAN\n",
    "treinar_gan(gerador, discriminador, gan, epochs=100, batch_size=128)"
   ]
  },
  {
   "cell_type": "code",
   "execution_count": 9,
   "metadata": {},
   "outputs": [
    {
     "name": "stdout",
     "output_type": "stream",
     "text": [
      "313/313 [==============================] - 3s 9ms/step\n"
     ]
    }
   ],
   "source": [
    "# Gerar novas imagens\n",
    "imagens_geradas = gerador.predict(np.random.normal(0, 1, (10000, 100)))\n",
    "x_treino_augmented = np.concatenate([x_treino, imagens_geradas])\n",
    "y_treino_augmented = np.concatenate([y_treino, y_treino[:10000]])  "
   ]
  },
  {
   "cell_type": "code",
   "execution_count": 10,
   "metadata": {},
   "outputs": [],
   "source": [
    "# Definição do modelo CNN\n",
    "def criar_modelo_cnn():\n",
    "    modelo = models.Sequential([\n",
    "        layers.Conv2D(32, (3, 3), activation='relu', input_shape=(32, 32, 3)),\n",
    "        layers.MaxPooling2D((2, 2)),\n",
    "        layers.Conv2D(64, (3, 3), activation='relu'),\n",
    "        layers.MaxPooling2D((2, 2)),\n",
    "        layers.Conv2D(64, (3, 3), activation='relu'),\n",
    "        layers.Flatten(),\n",
    "        layers.Dense(64, activation='relu'),\n",
    "        layers.Dense(10, activation='softmax')\n",
    "    ])\n",
    "    modelo.compile(optimizer='adam', loss='categorical_crossentropy', metrics=['accuracy'])\n",
    "    return modelo"
   ]
  },
  {
   "cell_type": "code",
   "execution_count": 11,
   "metadata": {},
   "outputs": [],
   "source": [
    "# Definindo a função para criar o modelo LSTM\n",
    "def criar_modelo_lstm(taxa_aprendizado=0.001):\n",
    "    modelo = models.Sequential([\n",
    "        layers.Bidirectional(layers.LSTM(64, return_sequences=True, dropout=0.25), input_shape=(32, 96)),\n",
    "        layers.Bidirectional(layers.LSTM(64, dropout=0.25)),\n",
    "        layers.Dense(64, activation='relu'),\n",
    "        layers.Dropout(0.5),\n",
    "        layers.Dense(10, activation='softmax')\n",
    "    ])\n",
    "    otimizador = Adam(learning_rate=taxa_aprendizado)\n",
    "    modelo.compile(optimizer=otimizador, loss='categorical_crossentropy', metrics=['accuracy'])\n",
    "    return modelo"
   ]
  },
  {
   "cell_type": "code",
   "execution_count": 12,
   "metadata": {},
   "outputs": [],
   "source": [
    "# Data Augmentation para o modelo CNN\n",
    "datagen = ImageDataGenerator(\n",
    "    rotation_range=20,\n",
    "    width_shift_range=0.2,\n",
    "    height_shift_range=0.2,\n",
    "    shear_range=0.2,\n",
    "    zoom_range=0.2,\n",
    "    horizontal_flip=True,\n",
    "    fill_mode='nearest')"
   ]
  },
  {
   "cell_type": "code",
   "execution_count": 13,
   "metadata": {},
   "outputs": [],
   "source": [
    "# Early Stopping para o modelo LSTM\n",
    "early_stopping_lstm = EarlyStopping(monitor='val_loss', patience=5, restore_best_weights=True)"
   ]
  },
  {
   "cell_type": "code",
   "execution_count": 15,
   "metadata": {},
   "outputs": [
    {
     "name": "stdout",
     "output_type": "stream",
     "text": [
      "Epoch 1/10\n",
      "1562/1562 [==============================] - 42s 26ms/step - loss: 1.7933 - accuracy: 0.3361 - val_loss: 1.4007 - val_accuracy: 0.4924\n",
      "Epoch 2/10\n",
      "1562/1562 [==============================] - 41s 26ms/step - loss: 1.5190 - accuracy: 0.4457 - val_loss: 1.2642 - val_accuracy: 0.5363\n",
      "Epoch 3/10\n",
      "1562/1562 [==============================] - 41s 26ms/step - loss: 1.4017 - accuracy: 0.4948 - val_loss: 1.2057 - val_accuracy: 0.5692\n",
      "Epoch 4/10\n",
      "1562/1562 [==============================] - 41s 26ms/step - loss: 1.3360 - accuracy: 0.5200 - val_loss: 1.1513 - val_accuracy: 0.5893\n",
      "Epoch 5/10\n",
      "1562/1562 [==============================] - 40s 26ms/step - loss: 1.2802 - accuracy: 0.5427 - val_loss: 1.1635 - val_accuracy: 0.5895\n",
      "Epoch 6/10\n",
      "1562/1562 [==============================] - 41s 26ms/step - loss: 1.2419 - accuracy: 0.5565 - val_loss: 1.0218 - val_accuracy: 0.6375\n",
      "Epoch 7/10\n",
      "1562/1562 [==============================] - 41s 26ms/step - loss: 1.2008 - accuracy: 0.5724 - val_loss: 1.0213 - val_accuracy: 0.6405\n",
      "Epoch 8/10\n",
      "1562/1562 [==============================] - 42s 27ms/step - loss: 1.1769 - accuracy: 0.5796 - val_loss: 1.0675 - val_accuracy: 0.6284\n",
      "Epoch 9/10\n",
      "1562/1562 [==============================] - 42s 27ms/step - loss: 1.1476 - accuracy: 0.5947 - val_loss: 1.0369 - val_accuracy: 0.6428\n",
      "Epoch 10/10\n",
      "1562/1562 [==============================] - 53s 34ms/step - loss: 1.1309 - accuracy: 0.5989 - val_loss: 1.0158 - val_accuracy: 0.6538\n"
     ]
    }
   ],
   "source": [
    "# Treinamento do modelo CNN\n",
    "modelo_cnn = criar_modelo_cnn()\n",
    "historico_cnn = modelo_cnn.fit(datagen.flow(x_treino, y_treino, batch_size=32),\n",
    "                               steps_per_epoch=len(x_treino) / 32,\n",
    "                               epochs=10,\n",
    "                               validation_data=(x_teste, y_teste))"
   ]
  },
  {
   "cell_type": "code",
   "execution_count": 16,
   "metadata": {},
   "outputs": [],
   "source": [
    "# Reformatação dos dados para o modelo LSTM\n",
    "x_treino_lstm = x_treino.reshape(x_treino.shape[0], 32, 32 * 3)\n",
    "x_teste_lstm = x_teste.reshape(x_teste.shape[0], 32, 32 * 3)"
   ]
  },
  {
   "cell_type": "code",
   "execution_count": 17,
   "metadata": {},
   "outputs": [
    {
     "name": "stdout",
     "output_type": "stream",
     "text": [
      "Epoch 1/10\n",
      "1563/1563 [==============================] - 89s 53ms/step - loss: 1.8677 - accuracy: 0.3173 - val_loss: 1.5881 - val_accuracy: 0.4276\n",
      "Epoch 2/10\n",
      "1563/1563 [==============================] - 67s 43ms/step - loss: 1.6383 - accuracy: 0.4132 - val_loss: 1.4915 - val_accuracy: 0.4547\n",
      "Epoch 3/10\n",
      "1563/1563 [==============================] - 79s 50ms/step - loss: 1.5393 - accuracy: 0.4474 - val_loss: 1.3960 - val_accuracy: 0.4922\n",
      "Epoch 4/10\n",
      "1563/1563 [==============================] - 61s 39ms/step - loss: 1.4716 - accuracy: 0.4762 - val_loss: 1.3534 - val_accuracy: 0.5126\n",
      "Epoch 5/10\n",
      "1563/1563 [==============================] - 62s 40ms/step - loss: 1.4267 - accuracy: 0.4940 - val_loss: 1.3013 - val_accuracy: 0.5320\n",
      "Epoch 6/10\n",
      "1563/1563 [==============================] - 62s 40ms/step - loss: 1.3794 - accuracy: 0.5095 - val_loss: 1.2897 - val_accuracy: 0.5384\n",
      "Epoch 7/10\n",
      "1563/1563 [==============================] - 61s 39ms/step - loss: 1.3402 - accuracy: 0.5252 - val_loss: 1.2742 - val_accuracy: 0.5516\n",
      "Epoch 8/10\n",
      "1563/1563 [==============================] - 61s 39ms/step - loss: 1.3099 - accuracy: 0.5354 - val_loss: 1.2152 - val_accuracy: 0.5667\n",
      "Epoch 9/10\n",
      "1563/1563 [==============================] - 61s 39ms/step - loss: 1.2791 - accuracy: 0.5484 - val_loss: 1.2250 - val_accuracy: 0.5647\n",
      "Epoch 10/10\n",
      "1563/1563 [==============================] - 65s 42ms/step - loss: 1.2590 - accuracy: 0.5563 - val_loss: 1.2268 - val_accuracy: 0.5668\n"
     ]
    }
   ],
   "source": [
    "# Treinamento do modelo LSTM\n",
    "modelo_lstm = criar_modelo_lstm()\n",
    "historico_lstm = modelo_lstm.fit(x_treino_lstm, y_treino, epochs=10, validation_data=(x_teste_lstm, y_teste), callbacks=[early_stopping_lstm])"
   ]
  },
  {
   "cell_type": "code",
   "execution_count": 18,
   "metadata": {},
   "outputs": [
    {
     "name": "stdout",
     "output_type": "stream",
     "text": [
      "313/313 [==============================] - 2s 7ms/step - loss: 1.0158 - accuracy: 0.6538\n",
      "313/313 [==============================] - 4s 12ms/step - loss: 1.2268 - accuracy: 0.5668\n"
     ]
    }
   ],
   "source": [
    "# Avaliação dos modelos\n",
    "perda_cnn, acuracia_cnn = modelo_cnn.evaluate(x_teste, y_teste)\n",
    "perda_lstm, acuracia_lstm = modelo_lstm.evaluate(x_teste_lstm, y_teste)"
   ]
  },
  {
   "cell_type": "code",
   "execution_count": 19,
   "metadata": {},
   "outputs": [
    {
     "name": "stdout",
     "output_type": "stream",
     "text": [
      "Acurácia do modelo CNN no teste: 0.65\n",
      "Acurácia do modelo (RNN com LSTM) no teste: 0.57\n"
     ]
    }
   ],
   "source": [
    "print(f\"Acurácia do modelo CNN no teste: {acuracia_cnn:.2f}\")\n",
    "print(f\"Acurácia do modelo (RNN com LSTM) no teste: {acuracia_lstm:.2f}\")"
   ]
  },
  {
   "cell_type": "code",
   "execution_count": null,
   "metadata": {},
   "outputs": [],
   "source": []
  },
  {
   "cell_type": "code",
   "execution_count": null,
   "metadata": {},
   "outputs": [],
   "source": []
  },
  {
   "cell_type": "code",
   "execution_count": null,
   "metadata": {},
   "outputs": [],
   "source": []
  },
  {
   "cell_type": "code",
   "execution_count": null,
   "metadata": {},
   "outputs": [],
   "source": []
  },
  {
   "cell_type": "code",
   "execution_count": null,
   "metadata": {},
   "outputs": [],
   "source": []
  },
  {
   "cell_type": "code",
   "execution_count": null,
   "metadata": {},
   "outputs": [],
   "source": []
  },
  {
   "cell_type": "code",
   "execution_count": null,
   "metadata": {},
   "outputs": [],
   "source": []
  },
  {
   "cell_type": "code",
   "execution_count": null,
   "metadata": {},
   "outputs": [],
   "source": []
  },
  {
   "cell_type": "code",
   "execution_count": null,
   "metadata": {},
   "outputs": [],
   "source": []
  },
  {
   "cell_type": "code",
   "execution_count": null,
   "metadata": {},
   "outputs": [],
   "source": []
  },
  {
   "cell_type": "code",
   "execution_count": null,
   "metadata": {},
   "outputs": [],
   "source": []
  }
 ],
 "metadata": {
  "kernelspec": {
   "display_name": "Python 3",
   "language": "python",
   "name": "python3"
  },
  "language_info": {
   "codemirror_mode": {
    "name": "ipython",
    "version": 3
   },
   "file_extension": ".py",
   "mimetype": "text/x-python",
   "name": "python",
   "nbconvert_exporter": "python",
   "pygments_lexer": "ipython3",
   "version": "3.10.5"
  }
 },
 "nbformat": 4,
 "nbformat_minor": 2
}
